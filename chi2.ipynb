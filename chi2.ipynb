{
 "cells": [
  {
   "cell_type": "code",
   "execution_count": 1,
   "id": "988f29a7",
   "metadata": {},
   "outputs": [],
   "source": [
    "import pandas as pd\n",
    "from scipy.stats import chi2_contingency"
   ]
  },
  {
   "cell_type": "code",
   "execution_count": 3,
   "id": "4779d81b",
   "metadata": {},
   "outputs": [
    {
     "data": {
      "text/html": [
       "<div>\n",
       "<style scoped>\n",
       "    .dataframe tbody tr th:only-of-type {\n",
       "        vertical-align: middle;\n",
       "    }\n",
       "\n",
       "    .dataframe tbody tr th {\n",
       "        vertical-align: top;\n",
       "    }\n",
       "\n",
       "    .dataframe thead th {\n",
       "        text-align: right;\n",
       "    }\n",
       "</style>\n",
       "<table border=\"1\" class=\"dataframe\">\n",
       "  <thead>\n",
       "    <tr style=\"text-align: right;\">\n",
       "      <th></th>\n",
       "      <th>ID</th>\n",
       "      <th>is_attrited</th>\n",
       "      <th>Age</th>\n",
       "      <th>Gender</th>\n",
       "      <th>Dependent_cnt</th>\n",
       "      <th>Edu_level</th>\n",
       "      <th>Marital_status</th>\n",
       "      <th>Income</th>\n",
       "      <th>Card</th>\n",
       "      <th>Period_m</th>\n",
       "      <th>Total_rel_cnt</th>\n",
       "      <th>Inactive_last_12m</th>\n",
       "      <th>Contacts_cnt_last_12m</th>\n",
       "      <th>Credit_limit</th>\n",
       "      <th>Total_trans_amt</th>\n",
       "      <th>Total_trans_cnt</th>\n",
       "    </tr>\n",
       "  </thead>\n",
       "  <tbody>\n",
       "    <tr>\n",
       "      <th>0</th>\n",
       "      <td>1</td>\n",
       "      <td>0</td>\n",
       "      <td>41</td>\n",
       "      <td>F</td>\n",
       "      <td>2</td>\n",
       "      <td>High School</td>\n",
       "      <td>Married</td>\n",
       "      <td>Less than $40K</td>\n",
       "      <td>Blue</td>\n",
       "      <td>36</td>\n",
       "      <td>6</td>\n",
       "      <td>2</td>\n",
       "      <td>2</td>\n",
       "      <td>4953.0</td>\n",
       "      <td>4183</td>\n",
       "      <td>67</td>\n",
       "    </tr>\n",
       "    <tr>\n",
       "      <th>1</th>\n",
       "      <td>2</td>\n",
       "      <td>0</td>\n",
       "      <td>38</td>\n",
       "      <td>M</td>\n",
       "      <td>0</td>\n",
       "      <td>High School</td>\n",
       "      <td>Single</td>\n",
       "      <td>$80K - $120K</td>\n",
       "      <td>Blue</td>\n",
       "      <td>29</td>\n",
       "      <td>3</td>\n",
       "      <td>3</td>\n",
       "      <td>2</td>\n",
       "      <td>5983.0</td>\n",
       "      <td>4141</td>\n",
       "      <td>65</td>\n",
       "    </tr>\n",
       "  </tbody>\n",
       "</table>\n",
       "</div>"
      ],
      "text/plain": [
       "   ID  is_attrited  Age Gender  Dependent_cnt    Edu_level Marital_status  \\\n",
       "0   1            0   41      F              2  High School        Married   \n",
       "1   2            0   38      M              0  High School         Single   \n",
       "\n",
       "           Income  Card  Period_m  Total_rel_cnt  Inactive_last_12m  \\\n",
       "0  Less than $40K  Blue        36              6                  2   \n",
       "1    $80K - $120K  Blue        29              3                  3   \n",
       "\n",
       "   Contacts_cnt_last_12m  Credit_limit  Total_trans_amt  Total_trans_cnt  \n",
       "0                      2        4953.0             4183               67  \n",
       "1                      2        5983.0             4141               65  "
      ]
     },
     "execution_count": 3,
     "metadata": {},
     "output_type": "execute_result"
    }
   ],
   "source": [
    "df=pd.read_csv(\"financial_info_10k_persons.csv\")\n",
    "df.head(2)"
   ]
  },
  {
   "cell_type": "code",
   "execution_count": 7,
   "id": "9ce00165",
   "metadata": {},
   "outputs": [
    {
     "data": {
      "text/plain": [
       "(4.093468963560284,\n",
       " 0.2515464475739655,\n",
       " 3,\n",
       " array([[ 392.8524, 2462.9028, 2067.3924,  392.8524],\n",
       "        [ 346.1476, 2170.0972, 1821.6076,  346.1476]]))"
      ]
     },
     "execution_count": 7,
     "metadata": {},
     "output_type": "execute_result"
    }
   ],
   "source": [
    "chi2_contingency(pd.crosstab(df[\"Gender\"],df[\"Marital_status\"])) #crosstab 무조건 써야함"
   ]
  },
  {
   "cell_type": "code",
   "execution_count": 9,
   "id": "f83a9638",
   "metadata": {},
   "outputs": [
    {
     "name": "stdout",
     "output_type": "stream",
     "text": [
      "4.093468963560284\n",
      "0.2515464475739655\n"
     ]
    }
   ],
   "source": [
    "stat,p,dof,e_val=chi2_contingency(pd.crosstab(df[\"Gender\"],\n",
    "                                              df[\"Marital_status\"]))\n",
    "print(stat)\n",
    "print(p)"
   ]
  },
  {
   "cell_type": "markdown",
   "id": "1faafedb",
   "metadata": {},
   "source": [
    "###1번 고객의 학력이 고졸인 경우 성별과 이탈여부를 사용하여 독립성 검정 실시 단 연속성 수정 안함"
   ]
  },
  {
   "cell_type": "code",
   "execution_count": 11,
   "id": "31b6441c",
   "metadata": {},
   "outputs": [
    {
     "data": {
      "text/plain": [
       "(3.979589535548525,\n",
       " 0.04605478481460392,\n",
       " 1,\n",
       " array([[867.82258065, 152.17741935],\n",
       "        [820.17741935, 143.82258065]]))"
      ]
     },
     "execution_count": 11,
     "metadata": {},
     "output_type": "execute_result"
    }
   ],
   "source": [
    "df_sub=df.loc[df[\"Edu_level\"]==\"High School\",]\n",
    "chi2_contingency(pd.crosstab(df_sub[\"Gender\"],\n",
    "                            df_sub[\"is_attrited\"]),\n",
    "                correction=False) #연속성 수정 여부 "
   ]
  },
  {
   "cell_type": "markdown",
   "id": "d679414d",
   "metadata": {},
   "source": [
    "2번 성별에 따른 카드 등급은 서로 관련이 있는지 독립성 검정을 실시하고 해당 검정 결과의 검정통계량<br>\n",
    "tip.종속 변수는 카드 등급으로 하면 댐"
   ]
  },
  {
   "cell_type": "code",
   "execution_count": 13,
   "id": "5856aa28",
   "metadata": {},
   "outputs": [
    {
     "data": {
      "text/plain": [
       "(66.45702170623164,\n",
       " 2.4470625495771945e-14,\n",
       " 3,\n",
       " array([[4962.486 ,   59.0076,   10.632 ,  283.8744],\n",
       "        [4372.514 ,   51.9924,    9.368 ,  250.1256]]))"
      ]
     },
     "execution_count": 13,
     "metadata": {},
     "output_type": "execute_result"
    }
   ],
   "source": [
    "chi2_contingency(pd.crosstab(df[\"Gender\"],df[\"Card\"]))"
   ]
  },
  {
   "cell_type": "markdown",
   "id": "e0bbc826",
   "metadata": {},
   "source": [
    "### 3번 최근 12개월의 이용 실적 중 3개월 이상 사용 실적이 없는 것과 고객 이탈의 관계가 있는지 <br>\n",
    "독립성 검정 실시"
   ]
  },
  {
   "cell_type": "code",
   "execution_count": 14,
   "id": "951e0116",
   "metadata": {},
   "outputs": [],
   "source": [
    "df[\"is_inactive_last_12m\"]=(df[\"Inactive_last_12m\"]>=3)+0"
   ]
  },
  {
   "cell_type": "code",
   "execution_count": 15,
   "id": "8ff07a29",
   "metadata": {},
   "outputs": [
    {
     "data": {
      "text/plain": [
       "(392.26058849678714,\n",
       " 1.2887936694268352e-81,\n",
       " 6,\n",
       " array([[  24.3948,    4.6052],\n",
       "        [1854.0048,  349.9952],\n",
       "        [2728.0116,  514.9884],\n",
       "        [3189.8304,  602.1696],\n",
       "        [ 365.0808,   68.9192],\n",
       "        [ 148.0512,   27.9488],\n",
       "        [ 102.6264,   19.3736]]))"
      ]
     },
     "execution_count": 15,
     "metadata": {},
     "output_type": "execute_result"
    }
   ],
   "source": [
    "chi2_contingency(pd.crosstab(df[\"Inactive_last_12m\"],\n",
    "                            df[\"is_attrited\"]))"
   ]
  },
  {
   "cell_type": "code",
   "execution_count": null,
   "id": "984b236e",
   "metadata": {},
   "outputs": [],
   "source": []
  },
  {
   "cell_type": "code",
   "execution_count": null,
   "id": "82a17279",
   "metadata": {},
   "outputs": [],
   "source": []
  },
  {
   "cell_type": "code",
   "execution_count": null,
   "id": "936f612a",
   "metadata": {},
   "outputs": [],
   "source": []
  },
  {
   "cell_type": "code",
   "execution_count": null,
   "id": "0bbde456",
   "metadata": {},
   "outputs": [],
   "source": []
  },
  {
   "cell_type": "code",
   "execution_count": null,
   "id": "38b9ff64",
   "metadata": {},
   "outputs": [],
   "source": []
  },
  {
   "cell_type": "code",
   "execution_count": null,
   "id": "93068475",
   "metadata": {},
   "outputs": [],
   "source": []
  },
  {
   "cell_type": "code",
   "execution_count": null,
   "id": "0acbf6f7",
   "metadata": {},
   "outputs": [],
   "source": []
  }
 ],
 "metadata": {
  "kernelspec": {
   "display_name": "Python 3",
   "language": "python",
   "name": "python3"
  },
  "language_info": {
   "codemirror_mode": {
    "name": "ipython",
    "version": 3
   },
   "file_extension": ".py",
   "mimetype": "text/x-python",
   "name": "python",
   "nbconvert_exporter": "python",
   "pygments_lexer": "ipython3",
   "version": "3.8.8"
  }
 },
 "nbformat": 4,
 "nbformat_minor": 5
}
